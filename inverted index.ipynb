{
 "cells": [
  {
   "cell_type": "code",
   "execution_count": 101,
   "metadata": {},
   "outputs": [
    {
     "name": "stderr",
     "output_type": "stream",
     "text": [
      "[nltk_data] Downloading package stopwords to\n",
      "[nltk_data]     C:\\Users\\shaya\\AppData\\Roaming\\nltk_data...\n",
      "[nltk_data]   Package stopwords is already up-to-date!\n"
     ]
    },
    {
     "data": {
      "text/plain": [
       "True"
      ]
     },
     "execution_count": 101,
     "metadata": {},
     "output_type": "execute_result"
    }
   ],
   "source": [
    "import nltk\n",
    "from collections import defaultdict\n",
    "from nltk.tokenize import sent_tokenize, word_tokenize\n",
    "from nltk.corpus import stopwords\n",
    "from nltk.stem import snowball\n",
    "from natsort import natsorted\n",
    "import os\n",
    "import random\n",
    "import math\n",
    "nltk.download(\"stopwords\")"
   ]
  },
  {
   "cell_type": "markdown",
   "metadata": {},
   "source": [
    "# Reading files information\n"
   ]
  },
  {
   "cell_type": "code",
   "execution_count": 102,
   "metadata": {},
   "outputs": [
    {
     "data": {
      "text/plain": [
       "['This is the first word.\\nThis is the second text, Hello! How are you?\\nThis is the third, this is it now.',\n",
       " 'This is the first word.\\nThis is the second text, Hello! How are you?\\nThis is the third, this is it now.',\n",
       " 'This is the first word.\\nmy name is shayanTH\\nThis is the second text, Hello! How are you?\\nThis is the third, this is it now.\\n\\n',\n",
       " 'This is the first word.\\nmy name is shayanTH\\nThis is the second text, Hello! How are you?\\nThis is the third, this working is it now.']"
      ]
     },
     "execution_count": 102,
     "metadata": {},
     "output_type": "execute_result"
    }
   ],
   "source": [
    "doc_list = []\n",
    "\n",
    "file_names = natsorted(os.listdir(\"./files\"))\n",
    "for file in file_names:\n",
    "    with open(f\"./files/{file}\",\"r\") as f:\n",
    "        text = f.read()\n",
    "        doc_list.append(text)\n",
    "    f.close()\n",
    "\n",
    "doc_list"
   ]
  },
  {
   "cell_type": "markdown",
   "metadata": {},
   "source": [
    "# Word Dumping and tokenizing"
   ]
  },
  {
   "cell_type": "code",
   "execution_count": 103,
   "metadata": {},
   "outputs": [
    {
     "data": {
      "text/plain": [
       "['This',\n",
       " 'is',\n",
       " 'the',\n",
       " 'first',\n",
       " 'word',\n",
       " '.',\n",
       " 'This',\n",
       " 'is',\n",
       " 'the',\n",
       " 'second',\n",
       " 'text',\n",
       " ',',\n",
       " 'Hello',\n",
       " '!',\n",
       " 'How',\n",
       " 'are',\n",
       " 'you',\n",
       " '?',\n",
       " 'This',\n",
       " 'is',\n",
       " 'the',\n",
       " 'third',\n",
       " ',',\n",
       " 'this',\n",
       " 'is',\n",
       " 'it',\n",
       " 'now',\n",
       " '.',\n",
       " 'This',\n",
       " 'is',\n",
       " 'the',\n",
       " 'first',\n",
       " 'word',\n",
       " '.',\n",
       " 'This',\n",
       " 'is',\n",
       " 'the',\n",
       " 'second',\n",
       " 'text',\n",
       " ',',\n",
       " 'Hello',\n",
       " '!',\n",
       " 'How',\n",
       " 'are',\n",
       " 'you',\n",
       " '?',\n",
       " 'This',\n",
       " 'is',\n",
       " 'the',\n",
       " 'third',\n",
       " ',',\n",
       " 'this',\n",
       " 'is',\n",
       " 'it',\n",
       " 'now',\n",
       " '.',\n",
       " 'This',\n",
       " 'is',\n",
       " 'the',\n",
       " 'first',\n",
       " 'word',\n",
       " '.',\n",
       " 'my',\n",
       " 'name',\n",
       " 'is',\n",
       " 'shayanTH',\n",
       " 'This',\n",
       " 'is',\n",
       " 'the',\n",
       " 'second',\n",
       " 'text',\n",
       " ',',\n",
       " 'Hello',\n",
       " '!',\n",
       " 'How',\n",
       " 'are',\n",
       " 'you',\n",
       " '?',\n",
       " 'This',\n",
       " 'is',\n",
       " 'the',\n",
       " 'third',\n",
       " ',',\n",
       " 'this',\n",
       " 'is',\n",
       " 'it',\n",
       " 'now',\n",
       " '.',\n",
       " 'This',\n",
       " 'is',\n",
       " 'the',\n",
       " 'first',\n",
       " 'word',\n",
       " '.',\n",
       " 'my',\n",
       " 'name',\n",
       " 'is',\n",
       " 'shayanTH',\n",
       " 'This',\n",
       " 'is',\n",
       " 'the',\n",
       " 'second',\n",
       " 'text',\n",
       " ',',\n",
       " 'Hello',\n",
       " '!',\n",
       " 'How',\n",
       " 'are',\n",
       " 'you',\n",
       " '?',\n",
       " 'This',\n",
       " 'is',\n",
       " 'the',\n",
       " 'third',\n",
       " ',',\n",
       " 'this',\n",
       " 'working',\n",
       " 'is',\n",
       " 'it',\n",
       " 'now',\n",
       " '.']"
      ]
     },
     "execution_count": 103,
     "metadata": {},
     "output_type": "execute_result"
    }
   ],
   "source": [
    "docs_words = []\n",
    "\n",
    "# Tokenize a paragraph into sentences and each sentence in to\n",
    "\n",
    "for c in doc_list:\n",
    "    for sent in sent_tokenize(c):\n",
    "        word_tokens = word_tokenize(sent)\n",
    "        docs_words += word_tokens\n",
    "docs_words"
   ]
  },
  {
   "cell_type": "code",
   "execution_count": 104,
   "metadata": {},
   "outputs": [
    {
     "data": {
      "text/plain": [
       "['T',\n",
       " 'h',\n",
       " 'i',\n",
       " 's',\n",
       " 'i',\n",
       " 's',\n",
       " 't',\n",
       " 'h',\n",
       " 'e',\n",
       " 'f',\n",
       " 'i',\n",
       " 'r',\n",
       " 's',\n",
       " 't',\n",
       " 'w',\n",
       " 'o',\n",
       " 'r',\n",
       " 'd',\n",
       " '.',\n",
       " 'm',\n",
       " 'y',\n",
       " 'n',\n",
       " 'a',\n",
       " 'm',\n",
       " 'e',\n",
       " 'i',\n",
       " 's',\n",
       " 's',\n",
       " 'h',\n",
       " 'a',\n",
       " 'y',\n",
       " 'a',\n",
       " 'n',\n",
       " 'T',\n",
       " 'H',\n",
       " 'T',\n",
       " 'h',\n",
       " 'i',\n",
       " 's',\n",
       " 'i',\n",
       " 's',\n",
       " 't',\n",
       " 'h',\n",
       " 'e',\n",
       " 's',\n",
       " 'e',\n",
       " 'c',\n",
       " 'o',\n",
       " 'n',\n",
       " 'd',\n",
       " 't',\n",
       " 'e',\n",
       " 'x',\n",
       " 't',\n",
       " ',',\n",
       " 'H',\n",
       " 'e',\n",
       " 'l',\n",
       " 'l',\n",
       " 'o',\n",
       " '!',\n",
       " 'H',\n",
       " 'o',\n",
       " 'w',\n",
       " 'a',\n",
       " 'r',\n",
       " 'e',\n",
       " 'y',\n",
       " 'o',\n",
       " 'u',\n",
       " '?',\n",
       " 'T',\n",
       " 'h',\n",
       " 'i',\n",
       " 's',\n",
       " 'i',\n",
       " 's',\n",
       " 't',\n",
       " 'h',\n",
       " 'e',\n",
       " 't',\n",
       " 'h',\n",
       " 'i',\n",
       " 'r',\n",
       " 'd',\n",
       " ',',\n",
       " 't',\n",
       " 'h',\n",
       " 'i',\n",
       " 's',\n",
       " 'w',\n",
       " 'o',\n",
       " 'r',\n",
       " 'k',\n",
       " 'i',\n",
       " 'n',\n",
       " 'g',\n",
       " 'i',\n",
       " 's',\n",
       " 'i',\n",
       " 't',\n",
       " 'n',\n",
       " 'o',\n",
       " 'w',\n",
       " '.']"
      ]
     },
     "execution_count": 104,
     "metadata": {},
     "output_type": "execute_result"
    }
   ],
   "source": [
    "word_list = []\n",
    "for word in text:\n",
    "    for sent in sent_tokenize(word):\n",
    "        word_tokens = word_tokenize(sent)\n",
    "        word_list += word_tokens\n",
    "\n",
    "word_list\n"
   ]
  },
  {
   "cell_type": "markdown",
   "metadata": {},
   "source": [
    "# Removing Punctutaions"
   ]
  },
  {
   "cell_type": "code",
   "execution_count": 105,
   "metadata": {},
   "outputs": [],
   "source": [
    "def remove_punc(string):\n",
    "    punc = '''!()-[]{};:'\"\\, <>./?@#$%^&*_~'''\n",
    "    for ele in string:  \n",
    "        if ele in punc:  \n",
    "            string = string.replace(ele, \"\") \n",
    "    return string\n"
   ]
  },
  {
   "cell_type": "markdown",
   "metadata": {},
   "source": [
    "# Lower casing all words"
   ]
  },
  {
   "cell_type": "code",
   "execution_count": 106,
   "metadata": {},
   "outputs": [],
   "source": [
    "lower_docs_words = [ x.lower() for x in docs_words ]\n",
    "lower_docs_words = set([remove_punc(i) for i in docs_words])\n",
    "lower_docs_words = set(list(filter(None, lower_docs_words)))\n"
   ]
  },
  {
   "cell_type": "markdown",
   "metadata": {},
   "source": [
    "# Removing Stop Words"
   ]
  },
  {
   "cell_type": "code",
   "execution_count": 107,
   "metadata": {},
   "outputs": [
    {
     "data": {
      "text/plain": [
       "{'Hello',\n",
       " 'How',\n",
       " 'This',\n",
       " 'first',\n",
       " 'name',\n",
       " 'second',\n",
       " 'shayanTH',\n",
       " 'text',\n",
       " 'third',\n",
       " 'word',\n",
       " 'working'}"
      ]
     },
     "execution_count": 107,
     "metadata": {},
     "output_type": "execute_result"
    }
   ],
   "source": [
    "stwords = set(stopwords.words('english'))\n",
    "\n",
    "# Using set difference to eliminate stopwords from our words\n",
    "stopfree_words = lower_docs_words - stwords\n",
    "stopfree_words"
   ]
  },
  {
   "cell_type": "markdown",
   "metadata": {},
   "source": [
    "# Stemming the documents Words"
   ]
  },
  {
   "cell_type": "code",
   "execution_count": 108,
   "metadata": {},
   "outputs": [
    {
     "data": {
      "text/plain": [
       "{'first',\n",
       " 'hello',\n",
       " 'how',\n",
       " 'name',\n",
       " 'second',\n",
       " 'shayanth',\n",
       " 'text',\n",
       " 'third',\n",
       " 'this',\n",
       " 'word',\n",
       " 'work'}"
      ]
     },
     "execution_count": 108,
     "metadata": {},
     "output_type": "execute_result"
    }
   ],
   "source": [
    "stemmer = snowball.SnowballStemmer('english')\n",
    "stemmed_words = set([stemmer.stem(x) for x in stopfree_words])\n",
    "stemmed_words"
   ]
  },
  {
   "cell_type": "markdown",
   "metadata": {},
   "source": [
    "# Creating Posting List (inverted index)"
   ]
  },
  {
   "cell_type": "code",
   "execution_count": 109,
   "metadata": {},
   "outputs": [],
   "source": [
    "inverted_index = defaultdict(set)\n",
    "punc = '''!()-[]{};:'\"\\, <>./?@#$%^&*_~'''\n",
    "\n",
    "for docid, c in enumerate(doc_list):\n",
    "    for sent in sent_tokenize(c):\n",
    "        for word in word_tokenize(sent):\n",
    "            word_lower = word.lower()\n",
    "            if word_lower not in stwords:\n",
    "                word_stem = stemmer.stem(word_lower)\n",
    "                inverted_index[word_stem].add(docid)\n",
    "\n",
    "inverted_index = dict({key:val for key,val in inverted_index.items() if key not in punc})\n",
    "\n"
   ]
  },
  {
   "cell_type": "markdown",
   "metadata": {},
   "source": [
    "# Searching the posting List"
   ]
  },
  {
   "cell_type": "code",
   "execution_count": 118,
   "metadata": {},
   "outputs": [],
   "source": [
    "def process_and_search(query):\n",
    "    matched_documents = set()\n",
    "    for word in word_tokenize(query):\n",
    "        word_lower = word.lower()\n",
    "        if word_lower not in stwords:\n",
    "            word_stem = stemmer.stem(word_lower)\n",
    "            matches = inverted_index.get(word_stem)\n",
    "            if matches:\n",
    "                matched_documents |= matches\n",
    "    print(f\"Result of search for query {query} is :\" +str( matched_documents)+\"\\n\")\n",
    "    return matched_documents"
   ]
  },
  {
   "cell_type": "markdown",
   "metadata": {},
   "source": [
    "# Test of posting List"
   ]
  },
  {
   "cell_type": "code",
   "execution_count": 119,
   "metadata": {},
   "outputs": [
    {
     "name": "stdout",
     "output_type": "stream",
     "text": [
      "################## Search in posting list ######################\n",
      "\n",
      "Result of search for query shayanth is :{2, 3}\n",
      "\n",
      "################## Search in posting list ######################\n",
      "\n"
     ]
    }
   ],
   "source": [
    "print(\"################## Search in posting list ######################\\n\")\n",
    "process_and_search(\"shayanth\")\n",
    "print(\"################## Search in posting list ######################\\n\")"
   ]
  },
  {
   "cell_type": "markdown",
   "metadata": {},
   "source": [
    "# Simple Intersection"
   ]
  },
  {
   "cell_type": "code",
   "execution_count": 116,
   "metadata": {},
   "outputs": [],
   "source": [
    "def intersection(query1,query2):\n",
    "    \n",
    "    if stemmer.stem(query1) and stemmer.stem(query2) in inverted_index.keys():\n",
    "        print(f\"Result of Inter section between {query1} and {query2} is:\\n\"+str(inverted_index[stemmer.stem(query1)].intersection(inverted_index[stemmer.stem(query2)]))+\"\\n\")\n",
    "    "
   ]
  },
  {
   "cell_type": "code",
   "execution_count": 117,
   "metadata": {},
   "outputs": [
    {
     "name": "stdout",
     "output_type": "stream",
     "text": [
      "################## intersection algorithm ######################\n",
      "\n",
      "Result of Inter section between shayanth and working is:\n",
      "{3}\n",
      "\n",
      "################## intersection algorithm ######################\n",
      "\n"
     ]
    }
   ],
   "source": [
    "print(\"################## intersection algorithm ######################\\n\")\n",
    "intersection(\"shayanth\",\"working\")\n",
    "print(\"################## intersection algorithm ######################\\n\")"
   ]
  },
  {
   "cell_type": "markdown",
   "metadata": {},
   "source": [
    "# Skip List Intersection"
   ]
  },
  {
   "cell_type": "code",
   "execution_count": 114,
   "metadata": {},
   "outputs": [],
   "source": [
    "def intersect_with_skips(p1,p2):\n",
    "    count1 = 0\n",
    "    count2 = 0\n",
    "    answer = []\n",
    "    \n",
    "    skip =math.floor(random.random() * 10)\n",
    "\n",
    "    while count1 < len(p1) and count2 < len(p2):\n",
    "        if p1[count1] == p2[count2]:\n",
    "            answer.append(p1[count1])\n",
    "            count1 +=1\n",
    "            count2 +=1\n",
    "        elif p1[count1] < p2[count2]:\n",
    "            if count1 + skip < len(p1) and p1[count1 + skip] < p2[count2]:\n",
    "                count1 += skip\n",
    "            else:\n",
    "                count1 += 1\n",
    "        else:\n",
    "            if count2 + skip < len(p2) and p2[count2 + skip] < p1[count1]:\n",
    "                count2 += skip\n",
    "            else:\n",
    "                count2 += 1\n",
    "\n",
    "    return answer"
   ]
  },
  {
   "cell_type": "markdown",
   "metadata": {},
   "source": [
    "# Testing Instersection with Skip list algorithm"
   ]
  },
  {
   "cell_type": "code",
   "execution_count": 115,
   "metadata": {},
   "outputs": [
    {
     "name": "stdout",
     "output_type": "stream",
     "text": [
      "################## Skip list algorithm ######################\n",
      "\n",
      "the result of intersection is: [3]\n",
      "\n",
      "################## Skip list algorithm ######################\n",
      "\n"
     ]
    }
   ],
   "source": [
    "print(\"################## Skip list algorithm ######################\\n\")\n",
    "print(\"the result of intersection is: \"+str(intersect_with_skips(list(inverted_index[stemmer.stem(\"working\")]),list(inverted_index[stemmer.stem(\"shayanth\")])))+\"\\n\")\n",
    "print(\"################## Skip list algorithm ######################\\n\")"
   ]
  },
  {
   "cell_type": "code",
   "execution_count": null,
   "metadata": {},
   "outputs": [],
   "source": []
  }
 ],
 "metadata": {
  "kernelspec": {
   "display_name": "Python 3.10.4 64-bit",
   "language": "python",
   "name": "python3"
  },
  "language_info": {
   "codemirror_mode": {
    "name": "ipython",
    "version": 3
   },
   "file_extension": ".py",
   "mimetype": "text/x-python",
   "name": "python",
   "nbconvert_exporter": "python",
   "pygments_lexer": "ipython3",
   "version": "3.10.4"
  },
  "orig_nbformat": 4,
  "vscode": {
   "interpreter": {
    "hash": "26de051ba29f2982a8de78e945f0abaf191376122a1563185a90213a26c5da77"
   }
  }
 },
 "nbformat": 4,
 "nbformat_minor": 2
}
