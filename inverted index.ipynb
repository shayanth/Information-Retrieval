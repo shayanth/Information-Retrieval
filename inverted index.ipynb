{
 "cells": [
  {
   "cell_type": "code",
   "execution_count": 38,
   "metadata": {},
   "outputs": [],
   "source": [
    "import nltk\n",
    "from collections import defaultdict\n",
    "from nltk.tokenize import sent_tokenize, word_tokenize\n",
    "from nltk.corpus import stopwords\n",
    "from nltk.stem import snowball\n",
    "from natsort import natsorted\n",
    "import os"
   ]
  },
  {
   "cell_type": "code",
   "execution_count": 39,
   "metadata": {},
   "outputs": [
    {
     "data": {
      "text/plain": [
       "['This is the first word.\\nThis is the second text, Hello! How are you?\\nThis is the third, this is it now.',\n",
       " 'This is the first word.\\nThis is the second text, Hello! How are you?\\nThis is the third, this is it now.',\n",
       " 'This is the first word.\\nmy name is shayanTH\\nThis is the second text, Hello! How are you?\\nThis is the third, this is it now.\\n\\n',\n",
       " 'This is the first word.\\nmy name is shayanTH\\nThis is the second text, Hello! How are you?\\nThis is the third, this working is it now.']"
      ]
     },
     "execution_count": 39,
     "metadata": {},
     "output_type": "execute_result"
    }
   ],
   "source": [
    "doc_list = []\n",
    "file_names = natsorted(os.listdir(\"./files\"))\n",
    "for file in file_names:\n",
    "    with open(f\"./files/{file}\",\"r\") as f:\n",
    "        text = f.read()\n",
    "        doc_list.append(text)\n",
    "    f.close()\n",
    "\n",
    "doc_list"
   ]
  },
  {
   "cell_type": "code",
   "execution_count": 40,
   "metadata": {},
   "outputs": [
    {
     "data": {
      "text/plain": [
       "['This',\n",
       " 'is',\n",
       " 'the',\n",
       " 'first',\n",
       " 'word',\n",
       " '.',\n",
       " 'This',\n",
       " 'is',\n",
       " 'the',\n",
       " 'second',\n",
       " 'text',\n",
       " ',',\n",
       " 'Hello',\n",
       " '!',\n",
       " 'How',\n",
       " 'are',\n",
       " 'you',\n",
       " '?',\n",
       " 'This',\n",
       " 'is',\n",
       " 'the',\n",
       " 'third',\n",
       " ',',\n",
       " 'this',\n",
       " 'is',\n",
       " 'it',\n",
       " 'now',\n",
       " '.',\n",
       " 'This',\n",
       " 'is',\n",
       " 'the',\n",
       " 'first',\n",
       " 'word',\n",
       " '.',\n",
       " 'This',\n",
       " 'is',\n",
       " 'the',\n",
       " 'second',\n",
       " 'text',\n",
       " ',',\n",
       " 'Hello',\n",
       " '!',\n",
       " 'How',\n",
       " 'are',\n",
       " 'you',\n",
       " '?',\n",
       " 'This',\n",
       " 'is',\n",
       " 'the',\n",
       " 'third',\n",
       " ',',\n",
       " 'this',\n",
       " 'is',\n",
       " 'it',\n",
       " 'now',\n",
       " '.',\n",
       " 'This',\n",
       " 'is',\n",
       " 'the',\n",
       " 'first',\n",
       " 'word',\n",
       " '.',\n",
       " 'my',\n",
       " 'name',\n",
       " 'is',\n",
       " 'shayanTH',\n",
       " 'This',\n",
       " 'is',\n",
       " 'the',\n",
       " 'second',\n",
       " 'text',\n",
       " ',',\n",
       " 'Hello',\n",
       " '!',\n",
       " 'How',\n",
       " 'are',\n",
       " 'you',\n",
       " '?',\n",
       " 'This',\n",
       " 'is',\n",
       " 'the',\n",
       " 'third',\n",
       " ',',\n",
       " 'this',\n",
       " 'is',\n",
       " 'it',\n",
       " 'now',\n",
       " '.',\n",
       " 'This',\n",
       " 'is',\n",
       " 'the',\n",
       " 'first',\n",
       " 'word',\n",
       " '.',\n",
       " 'my',\n",
       " 'name',\n",
       " 'is',\n",
       " 'shayanTH',\n",
       " 'This',\n",
       " 'is',\n",
       " 'the',\n",
       " 'second',\n",
       " 'text',\n",
       " ',',\n",
       " 'Hello',\n",
       " '!',\n",
       " 'How',\n",
       " 'are',\n",
       " 'you',\n",
       " '?',\n",
       " 'This',\n",
       " 'is',\n",
       " 'the',\n",
       " 'third',\n",
       " ',',\n",
       " 'this',\n",
       " 'working',\n",
       " 'is',\n",
       " 'it',\n",
       " 'now',\n",
       " '.']"
      ]
     },
     "execution_count": 40,
     "metadata": {},
     "output_type": "execute_result"
    }
   ],
   "source": [
    "docs_words = []\n",
    "\n",
    "# Tokenize a paragraph into sentences and each sentence in to\n",
    "# words\n",
    "for c in doc_list:\n",
    "    for sent in sent_tokenize(c):\n",
    "        word_tokens = word_tokenize(sent)\n",
    "        docs_words += word_tokens\n",
    "docs_words"
   ]
  },
  {
   "cell_type": "code",
   "execution_count": 41,
   "metadata": {},
   "outputs": [
    {
     "data": {
      "text/plain": [
       "['T',\n",
       " 'h',\n",
       " 'i',\n",
       " 's',\n",
       " 'i',\n",
       " 's',\n",
       " 't',\n",
       " 'h',\n",
       " 'e',\n",
       " 'f',\n",
       " 'i',\n",
       " 'r',\n",
       " 's',\n",
       " 't',\n",
       " 'w',\n",
       " 'o',\n",
       " 'r',\n",
       " 'd',\n",
       " '.',\n",
       " 'm',\n",
       " 'y',\n",
       " 'n',\n",
       " 'a',\n",
       " 'm',\n",
       " 'e',\n",
       " 'i',\n",
       " 's',\n",
       " 's',\n",
       " 'h',\n",
       " 'a',\n",
       " 'y',\n",
       " 'a',\n",
       " 'n',\n",
       " 'T',\n",
       " 'H',\n",
       " 'T',\n",
       " 'h',\n",
       " 'i',\n",
       " 's',\n",
       " 'i',\n",
       " 's',\n",
       " 't',\n",
       " 'h',\n",
       " 'e',\n",
       " 's',\n",
       " 'e',\n",
       " 'c',\n",
       " 'o',\n",
       " 'n',\n",
       " 'd',\n",
       " 't',\n",
       " 'e',\n",
       " 'x',\n",
       " 't',\n",
       " ',',\n",
       " 'H',\n",
       " 'e',\n",
       " 'l',\n",
       " 'l',\n",
       " 'o',\n",
       " '!',\n",
       " 'H',\n",
       " 'o',\n",
       " 'w',\n",
       " 'a',\n",
       " 'r',\n",
       " 'e',\n",
       " 'y',\n",
       " 'o',\n",
       " 'u',\n",
       " '?',\n",
       " 'T',\n",
       " 'h',\n",
       " 'i',\n",
       " 's',\n",
       " 'i',\n",
       " 's',\n",
       " 't',\n",
       " 'h',\n",
       " 'e',\n",
       " 't',\n",
       " 'h',\n",
       " 'i',\n",
       " 'r',\n",
       " 'd',\n",
       " ',',\n",
       " 't',\n",
       " 'h',\n",
       " 'i',\n",
       " 's',\n",
       " 'w',\n",
       " 'o',\n",
       " 'r',\n",
       " 'k',\n",
       " 'i',\n",
       " 'n',\n",
       " 'g',\n",
       " 'i',\n",
       " 's',\n",
       " 'i',\n",
       " 't',\n",
       " 'n',\n",
       " 'o',\n",
       " 'w',\n",
       " '.']"
      ]
     },
     "execution_count": 41,
     "metadata": {},
     "output_type": "execute_result"
    }
   ],
   "source": [
    "word_list = []\n",
    "for word in text:\n",
    "    for sent in sent_tokenize(word):\n",
    "        word_tokens = word_tokenize(sent)\n",
    "        word_list += word_tokens\n",
    "\n",
    "word_list\n"
   ]
  },
  {
   "cell_type": "code",
   "execution_count": 42,
   "metadata": {},
   "outputs": [],
   "source": [
    "def remove_punc(string):\n",
    "    punc = '''!()-[]{};:'\"\\, <>./?@#$%^&*_~'''\n",
    "    for ele in string:  \n",
    "        if ele in punc:  \n",
    "            string = string.replace(ele, \"\") \n",
    "    return string\n"
   ]
  },
  {
   "cell_type": "code",
   "execution_count": 49,
   "metadata": {},
   "outputs": [],
   "source": [
    "lower_docs_words = [ x.lower() for x in docs_words ]\n",
    "lower_docs_words = set([remove_punc(i) for i in docs_words])\n",
    "lower_docs_words = set(list(filter(None, lower_docs_words)))\n"
   ]
  },
  {
   "cell_type": "code",
   "execution_count": 50,
   "metadata": {},
   "outputs": [
    {
     "data": {
      "text/plain": [
       "{'Hello',\n",
       " 'How',\n",
       " 'This',\n",
       " 'first',\n",
       " 'name',\n",
       " 'second',\n",
       " 'shayanTH',\n",
       " 'text',\n",
       " 'third',\n",
       " 'word',\n",
       " 'working'}"
      ]
     },
     "execution_count": 50,
     "metadata": {},
     "output_type": "execute_result"
    }
   ],
   "source": [
    "stwords = set(stopwords.words('english'))\n",
    "\n",
    "# Using set difference to eliminate stopwords from our words\n",
    "stopfree_words = lower_docs_words - stwords\n",
    "stopfree_words"
   ]
  },
  {
   "cell_type": "code",
   "execution_count": 51,
   "metadata": {},
   "outputs": [
    {
     "data": {
      "text/plain": [
       "{'first',\n",
       " 'hello',\n",
       " 'how',\n",
       " 'name',\n",
       " 'second',\n",
       " 'shayanth',\n",
       " 'text',\n",
       " 'third',\n",
       " 'this',\n",
       " 'word',\n",
       " 'work'}"
      ]
     },
     "execution_count": 51,
     "metadata": {},
     "output_type": "execute_result"
    }
   ],
   "source": [
    "stemmer = snowball.SnowballStemmer('english')\n",
    "stemmed_words = set([stemmer.stem(x) for x in stopfree_words])\n",
    "stemmed_words"
   ]
  },
  {
   "cell_type": "code",
   "execution_count": 53,
   "metadata": {},
   "outputs": [
    {
     "data": {
      "text/plain": [
       "defaultdict(set,\n",
       "            {'first': {0, 1, 2, 3},\n",
       "             'word': {0, 1, 2, 3},\n",
       "             '.': {0, 1, 2, 3},\n",
       "             'second': {0, 1, 2, 3},\n",
       "             'text': {0, 1, 2, 3},\n",
       "             ',': {0, 1, 2, 3},\n",
       "             'hello': {0, 1, 2, 3},\n",
       "             '!': {0, 1, 2, 3},\n",
       "             '?': {0, 1, 2, 3},\n",
       "             'third': {0, 1, 2, 3},\n",
       "             'name': {2, 3},\n",
       "             'shayanth': {2, 3},\n",
       "             'work': {3}})"
      ]
     },
     "execution_count": 53,
     "metadata": {},
     "output_type": "execute_result"
    }
   ],
   "source": [
    "inverted_index = defaultdict(set)\n",
    "\n",
    "# We maintain the reference to the document by its index in the Doc list\n",
    "for docid, c in enumerate(doc_list):\n",
    "    for sent in sent_tokenize(c):\n",
    "        for word in word_tokenize(sent):\n",
    "            word_lower = word.lower()\n",
    "            if word_lower not in stwords:\n",
    "                word_stem = stemmer.stem(word_lower)\n",
    "                # We add the document to the set againt the word in our\n",
    "                # index\n",
    "                inverted_index[word_stem].add(docid)\n",
    "\n",
    "inverted_index "
   ]
  },
  {
   "cell_type": "code",
   "execution_count": 54,
   "metadata": {},
   "outputs": [],
   "source": [
    "def process_and_search(query):\n",
    "    matched_documents = set()\n",
    "    for word in word_tokenize(query):\n",
    "        word_lower = word.lower()\n",
    "        if word_lower not in stwords:\n",
    "            word_stem = stemmer.stem(word_lower)\n",
    "            matches = inverted_index.get(word_stem)\n",
    "            if matches:\n",
    "                # The operator |= is a short hand for set union\n",
    "                matched_documents |= matches\n",
    "    return matched_documents"
   ]
  },
  {
   "cell_type": "code",
   "execution_count": 64,
   "metadata": {},
   "outputs": [],
   "source": [
    "def intersection(query1,query2):\n",
    "    if query1 and query2 in inverted_index.keys():\n",
    "        print(inverted_index[query1].intersection(inverted_index[query2]))\n",
    "    "
   ]
  },
  {
   "cell_type": "code",
   "execution_count": 65,
   "metadata": {},
   "outputs": [
    {
     "name": "stdout",
     "output_type": "stream",
     "text": [
      "{3}\n"
     ]
    }
   ],
   "source": [
    "intersection(\"shayanth\",\"work\")\n"
   ]
  },
  {
   "cell_type": "code",
   "execution_count": null,
   "metadata": {},
   "outputs": [],
   "source": []
  }
 ],
 "metadata": {
  "kernelspec": {
   "display_name": "Python 3.10.4 64-bit",
   "language": "python",
   "name": "python3"
  },
  "language_info": {
   "codemirror_mode": {
    "name": "ipython",
    "version": 3
   },
   "file_extension": ".py",
   "mimetype": "text/x-python",
   "name": "python",
   "nbconvert_exporter": "python",
   "pygments_lexer": "ipython3",
   "version": "3.10.4"
  },
  "orig_nbformat": 4,
  "vscode": {
   "interpreter": {
    "hash": "26de051ba29f2982a8de78e945f0abaf191376122a1563185a90213a26c5da77"
   }
  }
 },
 "nbformat": 4,
 "nbformat_minor": 2
}
