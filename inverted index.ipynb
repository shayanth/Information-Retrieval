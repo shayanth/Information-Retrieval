{
 "cells": [
  {
   "cell_type": "code",
   "execution_count": 56,
   "metadata": {},
   "outputs": [],
   "source": [
    "import nltk\n",
    "from collections import defaultdict\n",
    "from nltk.tokenize import sent_tokenize, word_tokenize\n",
    "from nltk.corpus import stopwords\n",
    "from nltk.stem import snowball\n",
    "from natsort import natsorted\n",
    "import os"
   ]
  },
  {
   "cell_type": "code",
   "execution_count": 57,
   "metadata": {},
   "outputs": [
    {
     "data": {
      "text/plain": [
       "['This is the first word.\\nThis is the second text, Hello! How are you?\\nThis is the third, this is it now.',\n",
       " 'This is the first word.\\nThis is the second text, Hello! How are you?\\nThis is the third, this is it now.',\n",
       " 'This is the first word.\\nmy name is shayanTH\\nThis is the second text, Hello! How are you?\\nThis is the third, this is it now.\\n\\n',\n",
       " 'This is the first word.\\nmy name is shayanTH\\nThis is the second text, Hello! How are you?\\nThis is the third, this working is it now.']"
      ]
     },
     "execution_count": 57,
     "metadata": {},
     "output_type": "execute_result"
    }
   ],
   "source": [
    "doc_list = []\n",
    "file_names = natsorted(os.listdir(\"./files\"))\n",
    "for file in file_names:\n",
    "    with open(f\"./files/{file}\",\"r\") as f:\n",
    "        text = f.read()\n",
    "        doc_list.append(text)\n",
    "    f.close()\n",
    "\n",
    "doc_list"
   ]
  },
  {
   "cell_type": "code",
   "execution_count": 63,
   "metadata": {},
   "outputs": [],
   "source": [
    "docs_words = []\n",
    "\n",
    "# Tokenize a paragraph into sentences and each sentence in to\n",
    "# words\n",
    "for c in doc_list:\n",
    "    for sent in sent_tokenize(c):\n",
    "        word_tokens = word_tokenize(sent)\n",
    "        docs_words += word_tokens\n"
   ]
  },
  {
   "cell_type": "code",
   "execution_count": 64,
   "metadata": {},
   "outputs": [
    {
     "name": "stdout",
     "output_type": "stream",
     "text": [
      "105\n"
     ]
    }
   ],
   "source": [
    "word_list = []\n",
    "for word in text:\n",
    "    for sent in sent_tokenize(word):\n",
    "        word_tokens = word_tokenize(sent)\n",
    "        word_list += word_tokens\n",
    "\n",
    "print(len(word_list))\n"
   ]
  },
  {
   "cell_type": "code",
   "execution_count": 67,
   "metadata": {},
   "outputs": [
    {
     "data": {
      "text/plain": [
       "22"
      ]
     },
     "execution_count": 67,
     "metadata": {},
     "output_type": "execute_result"
    }
   ],
   "source": [
    "lower_docs_words = set([ x.lower() for x in docs_words ])\n",
    "len(lower_docs_words)"
   ]
  },
  {
   "cell_type": "code",
   "execution_count": 68,
   "metadata": {},
   "outputs": [
    {
     "data": {
      "text/plain": [
       "13"
      ]
     },
     "execution_count": 68,
     "metadata": {},
     "output_type": "execute_result"
    }
   ],
   "source": [
    "stwords = set(stopwords.words('english'))\n",
    "\n",
    "# Using set difference to eliminate stopwords from our words\n",
    "stopfree_words = lower_docs_words - stwords\n",
    "len(stopfree_words)"
   ]
  },
  {
   "cell_type": "code",
   "execution_count": 69,
   "metadata": {},
   "outputs": [
    {
     "data": {
      "text/plain": [
       "13"
      ]
     },
     "execution_count": 69,
     "metadata": {},
     "output_type": "execute_result"
    }
   ],
   "source": [
    "stemmer = snowball.SnowballStemmer('english')\n",
    "stemmed_words = set([stemmer.stem(x) for x in stopfree_words])\n",
    "len(stemmed_words)"
   ]
  },
  {
   "cell_type": "code",
   "execution_count": 73,
   "metadata": {},
   "outputs": [
    {
     "data": {
      "text/plain": [
       "defaultdict(set,\n",
       "            {'first': {0, 1, 2, 3},\n",
       "             'word': {0, 1, 2, 3},\n",
       "             '.': {0, 1, 2, 3},\n",
       "             'second': {0, 1, 2, 3},\n",
       "             'text': {0, 1, 2, 3},\n",
       "             ',': {0, 1, 2, 3},\n",
       "             'hello': {0, 1, 2, 3},\n",
       "             '!': {0, 1, 2, 3},\n",
       "             '?': {0, 1, 2, 3},\n",
       "             'third': {0, 1, 2, 3},\n",
       "             'name': {2, 3},\n",
       "             'shayanth': {2, 3},\n",
       "             'work': {3}})"
      ]
     },
     "execution_count": 73,
     "metadata": {},
     "output_type": "execute_result"
    }
   ],
   "source": [
    "inverted_index = defaultdict(set)\n",
    "\n",
    "# We maintain the reference to the document by its index in the corpus list\n",
    "for docid, c in enumerate(doc_list):\n",
    "    for sent in sent_tokenize(c):\n",
    "        for word in word_tokenize(sent):\n",
    "            word_lower = word.lower()\n",
    "            if word_lower not in stwords:\n",
    "                word_stem = stemmer.stem(word_lower)\n",
    "                # We add the document to the set againt the word in our\n",
    "                # index\n",
    "                inverted_index[word_stem].add(docid)\n",
    "\n",
    "inverted_index"
   ]
  },
  {
   "cell_type": "code",
   "execution_count": 74,
   "metadata": {},
   "outputs": [],
   "source": [
    "def process_and_search(query):\n",
    "    matched_documents = set()\n",
    "    for word in word_tokenize(query):\n",
    "        word_lower = word.lower()\n",
    "        if word_lower not in stwords:\n",
    "            word_stem = stemmer.stem(word_lower)\n",
    "            matches = inverted_index.get(word_stem)\n",
    "            if matches:\n",
    "                # The operator |= is a short hand for set union\n",
    "                matched_documents |= matches\n",
    "    return matched_documents"
   ]
  },
  {
   "cell_type": "code",
   "execution_count": 76,
   "metadata": {},
   "outputs": [
    {
     "data": {
      "text/plain": [
       "{2, 3}"
      ]
     },
     "execution_count": 76,
     "metadata": {},
     "output_type": "execute_result"
    }
   ],
   "source": [
    "process_and_search(\"shayanTH\")"
   ]
  },
  {
   "cell_type": "code",
   "execution_count": null,
   "metadata": {},
   "outputs": [],
   "source": []
  }
 ],
 "metadata": {
  "kernelspec": {
   "display_name": "Python 3.10.4 64-bit",
   "language": "python",
   "name": "python3"
  },
  "language_info": {
   "codemirror_mode": {
    "name": "ipython",
    "version": 3
   },
   "file_extension": ".py",
   "mimetype": "text/x-python",
   "name": "python",
   "nbconvert_exporter": "python",
   "pygments_lexer": "ipython3",
   "version": "3.10.4"
  },
  "orig_nbformat": 4,
  "vscode": {
   "interpreter": {
    "hash": "26de051ba29f2982a8de78e945f0abaf191376122a1563185a90213a26c5da77"
   }
  }
 },
 "nbformat": 4,
 "nbformat_minor": 2
}
